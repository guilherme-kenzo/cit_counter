{
 "cells": [
  {
   "cell_type": "code",
   "execution_count": 1,
   "metadata": {},
   "outputs": [],
   "source": [
    "from selenium import webdriver\n",
    "from selenium.common.exceptions import NoSuchElementException"
   ]
  },
  {
   "cell_type": "code",
   "execution_count": 2,
   "metadata": {},
   "outputs": [],
   "source": [
    "driver = webdriver.Firefox()"
   ]
  },
  {
   "cell_type": "code",
   "execution_count": 37,
   "metadata": {},
   "outputs": [],
   "source": [
    "init_url = 'http://direitosp.fgv.br/home-professor/all/all/all'\n",
    "driver.get(init_url)"
   ]
  },
  {
   "cell_type": "code",
   "execution_count": 51,
   "metadata": {},
   "outputs": [
    {
     "name": "stdout",
     "output_type": "stream",
     "text": [
      "\n",
      "Adolpho Bergamini\n",
      "\n",
      "Adriana Ancona de Faria\n",
      "\n",
      "Adriana Valéria Pugliesi Gardino\n",
      "\n",
      "Aldo de Paula Junior\n",
      "\n",
      "Alessandra Nascimento Silva e Figueiredo Mourão\n"
     ]
    }
   ],
   "source": [
    "        print(i.text)"
   ]
  },
  {
   "cell_type": "code",
   "execution_count": 4,
   "metadata": {},
   "outputs": [
    {
     "name": "stdout",
     "output_type": "stream",
     "text": [
      "['', 'Alexandre Pacheco da Silva', '', 'Alfredo Domingues Barbosa Migliore', '', 'Amanda Federico Lopes Fernandes', '', 'Ana Elvira Luciano Gebara', '', 'Anderson Kazuo Nakano']\n",
      "['', 'André de Albuquerque Cavalcanti Abbud', '', 'André Janjácomo Rosilho', '', 'André Luís Mársico Lombardi', '', 'André Mendes Espírito Santo', '', 'André Rodrigues Corrêa']\n",
      "['', 'Anita Pissolito Campos', '', 'Anna Lygia Costa Rego', '', 'Antonio Angarita', '', 'Arthur Barrionuevo Filho', '', 'Arthur Ridolfo Neto']\n",
      "['', 'Ary Oswaldo Mattos Filho', '', 'Bruno Freire e Silva', '', 'Bruno Meyerhof Salama', '', 'Bruno Robert', '', 'Caio Mario da Silva Pereira Neto']\n",
      "['', 'Camila de Jesus Mello Gonçalves', '', 'Camila Gomes de Mattos Campos Vergueiro', '', 'Candy Florêncio Thomé', '', 'Carla Campos Moreira Sanson', '', 'Carlos Ari Sundfeld']\n",
      "['', 'Carlos Eduardo Dantas Costa', '', 'Carlos Eduardo de Arruda Navarro', '', 'Carlos Henrique da Silva Ayres', '', 'Carlos Henrique de Oliveira', '', 'Carmine Rullo']\n",
      "['', 'Cassia M. Nakano Hirai', '', 'Cássio Machado Cavalli', '', 'Catarina Helena Cortada Barbieri', '', 'Celso Sanchez Vilardi', '', 'Clarissa Marcondes Macéa']\n",
      "['', 'Clarissa Piterman Gross', '', 'Claudio Ferrer de Souza', '', 'Claudio Wasserman', '', 'Cleveland Prates Teixeira', '', 'Cristina Saiz Jabardo']\n",
      "['', 'Daniel de Andrade Levy', '', 'Daniel do Amaral Arbix', '', 'Daniel Leib Zugman', '', 'Daniel Martins Boulos', '', 'Daniel Monteiro Peixoto']\n",
      "['', 'Daniela Monteiro Gabbay', '', 'Danilo Borges dos Santos Gomes de Araujo', '', 'Davi de Paiva Costa Tangerino', '', 'Denise Almeida de Andrade', '', 'Denise Poiani Delboni']\n",
      "['', 'Diego Diniz Ribeiro', '', 'Dimitri Dimoulis', '', 'Diogo Rais Rodrigues Moreira', '', 'Edison Carlos Fernandes', '', 'Eduardo Santos Arruda Madeira']\n",
      "['', 'Eduardo Tabacow Hidal', '', 'Eduardo Zylberstajn', '', 'Elidie Palma Bifano', '', 'Eloísa Machado de Almeida', '', 'Emerson Drigo da Silva']\n",
      "['', 'Emerson Ribeiro Fabiani', '', 'Euclides Pedrozo Junior', '', 'Eurico Marcos Diniz de Santi', '', 'Evy Cynthia Marques', '', 'Fabio Floriano Melo Martins']\n",
      "['', 'Fábio Pallaretti Calcini', '', 'Fabio Pereira da Silva', '', 'Felipe Bocardo Cerdeira', '', 'Fernanda Macedo', '', 'Fernanda Regina Vilares']\n",
      "['', 'Fernando B. von Teschenhausen Eberlin', '', 'Fernando Henrique Alba Colucci', '', 'Fernando Herren Fernandes Aguillar', '', 'Fernando Scharlack Marcato', '', 'Flavia Portella Püschel']\n",
      "['', 'Flávia Rahal Bresser Pereira', '', 'Flavia Scabin', '', 'Flavio Rubinstein', '', 'Francisco Eduardo Loureiro', '', 'Frederico Silva Bastos']\n",
      "['', 'Giancarllo Melito', '', 'Gilberto Gornati', '', 'Guilherme Carboni', '', 'Guilherme Jardim Jurksaitis', '', 'Gustavo da Silva Amaral']\n",
      "['', 'Gustavo de Freitas Morais', '', 'Gustavo Gonçalves Vettori', '', 'Gustavo Henrique Badaró', '', 'Hélio Rieger de Mello', '', 'Heloisa Estellita']\n",
      "['', 'Hsia Hua Sheng', '', 'Ilene Patricia de Noronha Najjarian', '', 'Isaías Coelho', '', 'Ivo Waisberg', '', 'Jacintho Silveira Dias de Arruda Câmara']\n",
      "['', 'Jedidiah Joseph Kroncke', '', 'João Eberhardt Francisco', '', 'José Augusto Fontoura Costa', '', 'José Carlos Firmino de Campos', '', 'José Eduardo Campos de Oliveira Faria']\n",
      "['', 'José Evaristo dos Santos', '', 'José Garcez Ghirardi', '', 'José Gomes Jardim Neto', '', 'José Marcelo Martins Proença', '', 'José Reinaldo de Lima Lopes']\n",
      "['', 'Juliana Bonacorsi de Palma', '', 'Juliana Bonazza Teixeira da Cunha', '', 'Juliana Furtado Costa Araujo', '', 'Leonel Cesarino Pessoa', '', 'Leonor Augusta Giovine Cordovil']\n",
      "['', 'Lia Regina Castaldi Sampaio', '', 'Lie Uema do Carmo', '', 'Luciana de Oliveira Ramos', '', 'Luciana Gross Cunha', '', 'Luciana Ibiapina Lira Aguiar']\n",
      "['', 'Luciano Benetti Timm', '', 'Luciano de Souza Godoy', '', 'Luís André Negrelli de Moura Azevedo', '', 'Luís Felipe Valerim Pinheiro', '', 'Luís Gustavo Haddad']\n",
      "['', 'Luis Mário Galbetti', '', 'Luiz Alfredo Ribeiro da Silva Paulin', '', 'Maíra Cardoso Zapater', '', 'Maíra Rocha Machado', '', 'Manoel Joaquim Pereira dos Santos']\n",
      "['', 'Marcel Leonardi', '', 'Marcelo Barbaresco', '', 'Marcelo Barbosa Sacramone', '', 'Marcos Fernandes Gonçalves da Silva', '', 'Marcos Galileu Lorena Dutra']\n",
      "['', 'Marcos Neves Fava', '', 'Maria Angelica Lencione Pedreti', '', 'Maria Cecília de Araujo Asperti', '', 'Maria Lúcia Labate Mantovanini Pádua Lima', '', 'Mariana Pargendler']\n",
      "['', 'Marina Feferbaum', '', 'Mario Engler Pinto Junior', '', 'Mario Gomes Schapiro', '', 'Marta Rodriguez de Assis Machado', '', 'Mateus Piva Adami']\n",
      "['', 'Michelle Ratton Sanchez Badin', '', 'Mônica Steffen Guise Rosina', '', 'Monique Haddad Knöchelmann Azevedo', '', 'Nara Cristina Takeda Taga', '', 'Nelson Mannrich']\n",
      "['', 'Nora Matilde Rachman', '', 'Oscar Vilhena Vieira', '', 'Osny da Silva Filho', '', 'Otávio Yazbek', '', 'Paolo Zupo Mazzucato']\n",
      "['', 'Paulo Cesar Conrado', '', 'Paulo Clarindo Goldschmidt', '', 'Paulo Dóron Rehder de Araújo', '', 'Paulo Sérgio João', '', 'Pedro Ricardo e Serpa']\n",
      "['', 'Pilar Carolina Villar', '', 'Rabih Nasser', '', 'Rafael Domingos Faiardo Vanzella', '', 'Rafael Francisco Alves', '', 'Renata Orsi Bulgueroni']\n",
      "['', 'Renato Vilela', '', 'Ricardo Madrona Saes', '', 'Roberto Dias', '', 'Roberto França de Vasconcellos', '', 'Roberto Quiroga Mosquera']\n",
      "['', 'Rodolfo da Costa Manso Real Amadeo', '', 'Rodrigo de Grandis', '', 'Rodrigo Kopke Salinas', '', 'Rodrigo Pagani de Souza', '', 'Ronaldo Porto Macedo Junior']\n",
      "['', 'Rosaura Ely Morganti Mantovanini', '', 'Rubens Glezer', '', 'Salem Hikmat Nasser', '', 'Salvador Cândido Brandão Junior', '', 'Samira Schatzmann']\n",
      "['', 'Sérgio Goldbaum', '', 'Sérgio Ricardo Nutti Marangoni', '', 'Sidnei Amendoeira Junior', '', 'Sólon de Almeida Cunha', '', 'Susana Henriques da Costa']\n",
      "['', 'Tânia Carvalhais Pereira', '', 'Tathiane dos Santos Piscitelli', '', 'Thalita Duarte Henriques Pinto', '', 'Theodomiro Dias Neto', '', 'Thiago de Souza Amparo']\n",
      "['', 'Thiago do Amaral Santos', '', 'Thiago dos Santos Acca', '', 'Thiago Reis e Souza', '', 'Vanessa Rahal Canado', '', 'Vera Cristina Caspari Monteiro']\n",
      "['', 'Vinicius Jucá Alves', '', 'Viviane Muller Prado', '', 'Vivianne Ferreira Mese', '', 'Wanderley Fernandes', '', 'Wilson Pinheiro Jabur']\n",
      "Message: Unable to locate element: //*[@title=\"Ir para a próxima página\"]\n",
      "\n",
      "all found\n"
     ]
    }
   ],
   "source": [
    "init_url = 'http://direitosp.fgv.br/home-professor/all/all/all'\n",
    "driver.get(init_url)\n",
    "all_profs = list()\n",
    "while True:\n",
    "    try:\n",
    "        next_button = driver.find_element_by_xpath('//*[@title=\"Ir para a próxima página\"]')\n",
    "        next_button.click()\n",
    "        lista_tmp = list()\n",
    "        for i in driver.find_elements_by_xpath('//a[@href]'):\n",
    "            if '/professor/' in i.get_attribute('href'):\n",
    "                lista_tmp.append(i.text)\n",
    "        all_profs.append(lista_tmp)\n",
    "        print(lista_tmp)\n",
    "    except NoSuchElementException as e:\n",
    "        print(e)\n",
    "        print('all found')\n",
    "        break"
   ]
  },
  {
   "cell_type": "code",
   "execution_count": 8,
   "metadata": {},
   "outputs": [],
   "source": [
    "from itertools import chain"
   ]
  },
  {
   "cell_type": "code",
   "execution_count": 11,
   "metadata": {},
   "outputs": [],
   "source": [
    "all_profs = list(chain.from_iterable(all_profs))"
   ]
  },
  {
   "cell_type": "code",
   "execution_count": 13,
   "metadata": {},
   "outputs": [],
   "source": [
    "all_profs = [i for i in all_profs if i]"
   ]
  },
  {
   "cell_type": "code",
   "execution_count": 15,
   "metadata": {},
   "outputs": [],
   "source": [
    "with open('professores.txt', 'a') as f:\n",
    "    for i in all_profs:\n",
    "        f.write(i + '\\n')"
   ]
  },
  {
   "cell_type": "code",
   "execution_count": 21,
   "metadata": {},
   "outputs": [],
   "source": [
    "import requests\n",
    "import asyncio"
   ]
  },
  {
   "cell_type": "code",
   "execution_count": 28,
   "metadata": {},
   "outputs": [],
   "source": [
    "async def get_url(url):\n",
    "    r = await requests.get(url)"
   ]
  },
  {
   "cell_type": "code",
   "execution_count": 29,
   "metadata": {},
   "outputs": [
    {
     "ename": "TypeError",
     "evalue": "object Response can't be used in 'await' expression",
     "output_type": "error",
     "traceback": [
      "\u001b[0;31m---------------------------------------------------------------------------\u001b[0m",
      "\u001b[0;31mTypeError\u001b[0m                                 Traceback (most recent call last)",
      "\u001b[0;32m<ipython-input-29-a2acc22d4fb6>\u001b[0m in \u001b[0;36m<module>\u001b[0;34m()\u001b[0m\n\u001b[1;32m      4\u001b[0m \u001b[0mnew_lista\u001b[0m \u001b[0;34m=\u001b[0m \u001b[0mlist\u001b[0m\u001b[0;34m(\u001b[0m\u001b[0;34m)\u001b[0m\u001b[0;34m\u001b[0m\u001b[0m\n\u001b[1;32m      5\u001b[0m \u001b[0mloop\u001b[0m \u001b[0;34m=\u001b[0m \u001b[0masyncio\u001b[0m\u001b[0;34m.\u001b[0m\u001b[0mget_event_loop\u001b[0m\u001b[0;34m(\u001b[0m\u001b[0;34m)\u001b[0m\u001b[0;34m\u001b[0m\u001b[0m\n\u001b[0;32m----> 6\u001b[0;31m \u001b[0mloop\u001b[0m\u001b[0;34m.\u001b[0m\u001b[0mrun_until_complete\u001b[0m\u001b[0;34m(\u001b[0m\u001b[0mget_url\u001b[0m\u001b[0;34m(\u001b[0m\u001b[0mlista\u001b[0m\u001b[0;34m[\u001b[0m\u001b[0;36m0\u001b[0m\u001b[0;34m]\u001b[0m\u001b[0;34m)\u001b[0m\u001b[0;34m)\u001b[0m\u001b[0;34m\u001b[0m\u001b[0m\n\u001b[0m",
      "\u001b[0;32m~/anaconda3/lib/python3.6/asyncio/base_events.py\u001b[0m in \u001b[0;36mrun_until_complete\u001b[0;34m(self, future)\u001b[0m\n\u001b[1;32m    465\u001b[0m             \u001b[0;32mraise\u001b[0m \u001b[0mRuntimeError\u001b[0m\u001b[0;34m(\u001b[0m\u001b[0;34m'Event loop stopped before Future completed.'\u001b[0m\u001b[0;34m)\u001b[0m\u001b[0;34m\u001b[0m\u001b[0m\n\u001b[1;32m    466\u001b[0m \u001b[0;34m\u001b[0m\u001b[0m\n\u001b[0;32m--> 467\u001b[0;31m         \u001b[0;32mreturn\u001b[0m \u001b[0mfuture\u001b[0m\u001b[0;34m.\u001b[0m\u001b[0mresult\u001b[0m\u001b[0;34m(\u001b[0m\u001b[0;34m)\u001b[0m\u001b[0;34m\u001b[0m\u001b[0m\n\u001b[0m\u001b[1;32m    468\u001b[0m \u001b[0;34m\u001b[0m\u001b[0m\n\u001b[1;32m    469\u001b[0m     \u001b[0;32mdef\u001b[0m \u001b[0mstop\u001b[0m\u001b[0;34m(\u001b[0m\u001b[0mself\u001b[0m\u001b[0;34m)\u001b[0m\u001b[0;34m:\u001b[0m\u001b[0;34m\u001b[0m\u001b[0m\n",
      "\u001b[0;32m<ipython-input-28-025c9f451bba>\u001b[0m in \u001b[0;36mget_url\u001b[0;34m(url)\u001b[0m\n\u001b[1;32m      1\u001b[0m \u001b[0;34masync\u001b[0m \u001b[0;32mdef\u001b[0m \u001b[0mget_url\u001b[0m\u001b[0;34m(\u001b[0m\u001b[0murl\u001b[0m\u001b[0;34m)\u001b[0m\u001b[0;34m:\u001b[0m\u001b[0;34m\u001b[0m\u001b[0m\n\u001b[0;32m----> 2\u001b[0;31m     \u001b[0mr\u001b[0m \u001b[0;34m=\u001b[0m \u001b[0mawait\u001b[0m \u001b[0mrequests\u001b[0m\u001b[0;34m.\u001b[0m\u001b[0mget\u001b[0m\u001b[0;34m(\u001b[0m\u001b[0murl\u001b[0m\u001b[0;34m)\u001b[0m\u001b[0;34m\u001b[0m\u001b[0m\n\u001b[0m",
      "\u001b[0;31mTypeError\u001b[0m: object Response can't be used in 'await' expression"
     ]
    }
   ],
   "source": [
    "lista = ['https://en.wikipedia.org/wiki/Battle_of_the_Cedars',\n",
    "        'https://en.wikipedia.org/wiki/Mark_Williams_(snooker_player)',\n",
    "        'https://en.wikipedia.org/wiki/InSight']\n",
    "new_lista = list()\n",
    "loop = asyncio.get_event_loop()\n",
    "loop.run_until_complete(get_url(lista[0]))\n"
   ]
  },
  {
   "cell_type": "code",
   "execution_count": null,
   "metadata": {},
   "outputs": [],
   "source": []
  }
 ],
 "metadata": {
  "kernelspec": {
   "display_name": "Python 3",
   "language": "python",
   "name": "python3"
  },
  "language_info": {
   "codemirror_mode": {
    "name": "ipython",
    "version": 3
   },
   "file_extension": ".py",
   "mimetype": "text/x-python",
   "name": "python",
   "nbconvert_exporter": "python",
   "pygments_lexer": "ipython3",
   "version": "3.6.4"
  }
 },
 "nbformat": 4,
 "nbformat_minor": 2
}
